{
  "nbformat": 4,
  "nbformat_minor": 0,
  "metadata": {
    "colab": {
      "name": "REGex_Assmt_1.ipynb",
      "provenance": [],
      "collapsed_sections": []
    },
    "kernelspec": {
      "name": "python3",
      "display_name": "Python 3"
    },
    "language_info": {
      "name": "python"
    }
  },
  "cells": [
    {
      "cell_type": "code",
      "execution_count": 36,
      "metadata": {
        "colab": {
          "base_uri": "https://localhost:8080/"
        },
        "id": "v4jtwag9hNel",
        "outputId": "2cc0f8a2-9935-44af-ef29-f48a0834c628"
      },
      "outputs": [
        {
          "output_type": "stream",
          "name": "stdout",
          "text": [
            "Enter a NUmber5\n",
            "A \n",
            "B B \n",
            "C C C \n",
            "D D D D \n",
            "E E E E E \n"
          ]
        }
      ],
      "source": [
        "#Reg ID :- IIPRSS1304\n",
        "#Name:- S.Balaji\n",
        "\n",
        "# 1. Create a program to see the pattern using python\n",
        "# A\n",
        "# B B\n",
        "# C C C\n",
        "# D D D D\n",
        "# E E E E E\n",
        "\n",
        "rows=int(input(\"Enter a NUmber\"))\n",
        "ascie=65 #ASCII Value starts at 65=A and Increament it by One in the iteration\n",
        "for i in range(rows):\n",
        "  for j in range(i+1):\n",
        "    val=chr(ascie)\n",
        "    print(val,end=' ')\n",
        "  ascie+=1  #Incrament the ascie value by 1 to move to the next Character after the Row Loop iterates completed\n",
        "  print() \n",
        "\n",
        "\n",
        "\n",
        "\n"
      ]
    },
    {
      "cell_type": "code",
      "source": [
        "#Reg ID :- IIPRSS1304\n",
        "#Name:- S.Balaji\n",
        "\n",
        "# 2. Create a program to convert any string into Pig Latin:\n",
        "# a. Pig Latin is a language game in English in which words are altered according\n",
        "# to the rules\n",
        "# b. Rules:\n",
        "#   i. If the word begins with a consonant, all the alphabets before the vowel\n",
        "#   is placed at the end of the word. After that, the suffix by is added to\n",
        "#   the word.\n",
        "#     ii. Example :\n",
        "#       1. regex => egex+r+by => egexrby\n",
        "# c. If the word begins with a vowel, in such cases yay is added at the end of the\n",
        "# word. For example, consider the following words:\n",
        "#   i. apple : apple+yay => appleyay\n",
        "\n",
        "chkvowel=['a','e','i','o','u']\n",
        "sfx=\"by\"\n",
        "sfx2=\"yay\"\n",
        "word1=input(\"Enter a word\")\n",
        "if(word1.isalpha()):\n",
        "  word1=word1.lower()\n",
        "  #print(word1)\n",
        "else:\n",
        "  print(\"Not a String\")\n",
        "if(word1[0] in chkvowel):\n",
        "  print(word1+sfx2)\n",
        "else:\n",
        "  #  regex => egex+r+by => egexrby\n",
        "  fword=word1[0]\n",
        "  print(word1[1:]+fword+sfx)\n",
        "# for i in word1:\n",
        "#   if(i=='a' or i=='e' or i=='i' or i=='o' or i=='u'):\n",
        "#     print(\"OK\")\n",
        "#     break\n",
        "#   else:\n",
        "#     print(\"NOtok\")\n",
        "\n",
        "\n",
        "\n"
      ],
      "metadata": {
        "colab": {
          "base_uri": "https://localhost:8080/"
        },
        "id": "qmi1FbOHiv35",
        "outputId": "243c1b80-20aa-417d-c480-85cc8d04c2d4"
      },
      "execution_count": 38,
      "outputs": [
        {
          "output_type": "stream",
          "name": "stdout",
          "text": [
            "Enter a wordapple\n",
            "appleyay\n"
          ]
        }
      ]
    }
  ]
}