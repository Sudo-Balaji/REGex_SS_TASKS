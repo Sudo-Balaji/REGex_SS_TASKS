{
  "nbformat": 4,
  "nbformat_minor": 0,
  "metadata": {
    "colab": {
      "name": "REGex_Taks2.ipynb",
      "provenance": [],
      "collapsed_sections": []
    },
    "kernelspec": {
      "name": "python3",
      "display_name": "Python 3"
    },
    "language_info": {
      "name": "python"
    }
  },
  "cells": [
    {
      "cell_type": "code",
      "execution_count": 36,
      "metadata": {
        "colab": {
          "base_uri": "https://localhost:8080/"
        },
        "id": "inXHqwbJzkzb",
        "outputId": "3827b7c8-5ae8-4d3a-cd1a-9b10db34778f"
      },
      "outputs": [
        {
          "output_type": "stream",
          "name": "stdout",
          "text": [
            "ENter a Number6\n",
            "* * * * * \n",
            "* * * * \n",
            "* * * \n",
            "* * \n",
            "* \n",
            "\n"
          ]
        }
      ],
      "source": [
        "#Task 2 - Q1******\n",
        "#           *****\n",
        "#           ****\n",
        "#           ***\n",
        "#           **\n",
        "#           *\n",
        "#Reg ID :- IIPRSS1304\n",
        "#Name:- S.Balaji\n",
        "\n",
        "\n",
        "n=int(input(\"ENter a Number\"))\n",
        "for row in range(1,n+1):     #Execution for outer loop that is Row\n",
        "  for col in range(row,n):   #Execution of inner loop that is Coloum\n",
        "    print('*', end=\" \")\n",
        "  print()\n",
        "\n",
        "\n",
        "\n"
      ]
    },
    {
      "cell_type": "code",
      "source": [
        " #Task 2 -Q2 1\n",
        "  #           12\n",
        "  #           123\n",
        "  #           1234\n",
        "  #           12345\n",
        "  #           123456\n",
        "#Reg ID :- IIPRSS1304\n",
        "#Name:- S.Balaji\n",
        "\n",
        "count=int(input(\"Enter a numver\"))\n",
        "for row in range(1,count):        #For Row \n",
        "  for col in range(1,row+1):      #For Colmum\n",
        "    print(col,end=\" \")            #Specify the col to show column number and Space\n",
        "  print()"
      ],
      "metadata": {
        "colab": {
          "base_uri": "https://localhost:8080/"
        },
        "id": "_XNschP7HId9",
        "outputId": "0db49912-7c77-42db-e0ab-9eb857f048ed"
      },
      "execution_count": 37,
      "outputs": [
        {
          "output_type": "stream",
          "name": "stdout",
          "text": [
            "Enter a numver8\n",
            "1 \n",
            "1 2 \n",
            "1 2 3 \n",
            "1 2 3 4 \n",
            "1 2 3 4 5 \n",
            "1 2 3 4 5 6 \n",
            "1 2 3 4 5 6 7 \n"
          ]
        }
      ]
    },
    {
      "cell_type": "code",
      "source": [
        "#Task 2 -Q3      *\n",
        "  #             * *\n",
        "  #            * * *\n",
        "  #           * * * *\n",
        "  #          * * * * *\n",
        "  #         * * * * * * \n",
        "#Reg ID :- IIPRSS1304\n",
        "#Name:- S.Balaji\n",
        "\n",
        "count1=int(input('ENter a number'))\n",
        "for row in range(n):\n",
        "  for col in range(row,n):\n",
        "    print(\" \",end=' ')\n",
        "  for col in range(row):\n",
        "    print('*',end=' ')\n",
        "  for col in range(row+1):\n",
        "    print('*',end=' ')\n",
        "\n",
        "  print()\n",
        "          "
      ],
      "metadata": {
        "colab": {
          "base_uri": "https://localhost:8080/"
        },
        "id": "DWo542xg2ZF4",
        "outputId": "b12f6ab6-1e34-40ff-d437-82fd59cf5f72"
      },
      "execution_count": 38,
      "outputs": [
        {
          "output_type": "stream",
          "name": "stdout",
          "text": [
            "ENter a number8\n",
            "            * \n",
            "          * * * \n",
            "        * * * * * \n",
            "      * * * * * * * \n",
            "    * * * * * * * * * \n",
            "  * * * * * * * * * * * \n"
          ]
        }
      ]
    }
  ]
}