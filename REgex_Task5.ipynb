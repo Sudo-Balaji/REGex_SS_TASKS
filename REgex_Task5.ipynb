{
  "nbformat": 4,
  "nbformat_minor": 0,
  "metadata": {
    "colab": {
      "provenance": []
    },
    "kernelspec": {
      "name": "python3",
      "display_name": "Python 3"
    },
    "language_info": {
      "name": "python"
    }
  },
  "cells": [
    {
      "cell_type": "code",
      "source": [
        "#Reg ID :- IIPRSS1304\n",
        "#Name:- S.Balaji\n",
        "\n",
        "# Create two functions which will help us to find the LCM & GCF(Greatest Common Factor) of any two numbers.\n",
        "\n",
        "\n",
        "\n",
        "def findgcf(a,b):\n",
        "  gcd=1\n",
        "  for i in range(1,a+1):\n",
        "    #print(\"in for\",i)\n",
        "    if a%i==0 and b%i==0:\n",
        "      gcd=i\n",
        "      #print(\"in iF Cond\",i)\n",
        "  return gcd\n",
        "\n",
        "first=int(input(\"Enter the First Number\"))\n",
        "second=int(input(\"Enter the Second Number\"))\n",
        "print(\"Greatest Common factor of \",first,\"&\",second,\"is\",findgcf(first,second))\n",
        "lcm=first*second//findgcf(first,second)\n",
        "#L.C.M of two numbers = Product of Two numbers/H.C.F. of Two numbers\n",
        "print(\"Least Common Factor of \",first,\"&\",second,\"is\",lcm)"
      ],
      "metadata": {
        "colab": {
          "base_uri": "https://localhost:8080/"
        },
        "id": "9zxF4ZuMS2sB",
        "outputId": "bb462b31-b2fd-4888-8520-b091120698e4"
      },
      "execution_count": 25,
      "outputs": [
        {
          "output_type": "stream",
          "name": "stdout",
          "text": [
            "Enter the First Number12\n",
            "Enter the Second Number18\n",
            "Greatest Common factor of  12 & 18 is 6\n",
            "Least Common Factor of  12 & 18 is 36\n"
          ]
        }
      ]
    }
  ]
}