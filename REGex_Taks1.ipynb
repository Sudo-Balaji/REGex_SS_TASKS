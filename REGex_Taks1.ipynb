{
  "nbformat": 4,
  "nbformat_minor": 0,
  "metadata": {
    "colab": {
      "name": "REGex_Taks1.ipynb",
      "provenance": [],
      "collapsed_sections": []
    },
    "kernelspec": {
      "name": "python3",
      "display_name": "Python 3"
    },
    "language_info": {
      "name": "python"
    }
  },
  "cells": [
    {
      "cell_type": "code",
      "execution_count": 14,
      "metadata": {
        "colab": {
          "base_uri": "https://localhost:8080/"
        },
        "id": "iJHTaIk2tl0F",
        "outputId": "e4a09a93-21cb-4fdd-c59b-f231ccd46e06"
      },
      "outputs": [
        {
          "output_type": "stream",
          "name": "stdout",
          "text": [
            "Enter a Number11\n",
            "11 is a Prime Number\n"
          ]
        }
      ],
      "source": [
        "#Task 1 - Take any number from the user and verify whether the number is prime numbers\n",
        "#Reg ID :- IIPRSS1304\n",
        "#Name:- S.Balaji\n",
        "x=int(input('Enter a Number'))\n",
        "count=0\n",
        "for i in range(1,x+1):\n",
        "  if(x%i==0):    #Check if the Given number is divisible\n",
        "    count+=1\n",
        "\n",
        "if(count==2):\n",
        "  print(f\"{x} is a Prime Number\")\n",
        "else:\n",
        "  print(f\"{x} is not a Prime Number\")  \n",
        "\n"
      ]
    },
    {
      "cell_type": "code",
      "source": [
        "#Task 1 - Take any a number from the user & verify whether they are divisible by 3\n",
        "#                ( 171 ==> 1+7+1 ==> 9)\n",
        "#                  ( 9%3==0 , divisible by 3)\n",
        "#Reg ID :- IIPRSS1304\n",
        "#Name:- S.Balaji\n",
        "num=int(input('ENter a Number'))\n",
        "sum=0\n",
        "while(num!=0):\n",
        "  x=num%10 #To get Last Number\n",
        "  sum+=x #Add Last Number (Reverse Adding)\n",
        "  num=num//10 #Get First most Number\n",
        "if(sum%3==0):\n",
        "  print(\"It is divisible by 3\")\n",
        "else:\n",
        "  print(\"THe Number is not divisible by 3\")\n",
        "\n",
        "\n"
      ],
      "metadata": {
        "colab": {
          "base_uri": "https://localhost:8080/"
        },
        "id": "u0UJhhI43SV7",
        "outputId": "f06a32ae-b79f-4e8a-e246-1c834ef74787"
      },
      "execution_count": 16,
      "outputs": [
        {
          "output_type": "stream",
          "name": "stdout",
          "text": [
            "ENter a Number171\n",
            "It is divisible by 3\n"
          ]
        }
      ]
    },
    {
      "cell_type": "code",
      "source": [
        "50%5"
      ],
      "metadata": {
        "colab": {
          "base_uri": "https://localhost:8080/"
        },
        "id": "jvGVRWzXCn-d",
        "outputId": "1e6f80b6-9e72-4843-8650-81b0b167317f"
      },
      "execution_count": 17,
      "outputs": [
        {
          "output_type": "execute_result",
          "data": {
            "text/plain": [
              "0"
            ]
          },
          "metadata": {},
          "execution_count": 17
        }
      ]
    }
  ]
}