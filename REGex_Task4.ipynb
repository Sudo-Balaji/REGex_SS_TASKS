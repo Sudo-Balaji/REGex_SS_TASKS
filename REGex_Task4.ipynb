{
  "nbformat": 4,
  "nbformat_minor": 0,
  "metadata": {
    "colab": {
      "name": "REGex_Task4.ipynb",
      "provenance": [],
      "collapsed_sections": []
    },
    "kernelspec": {
      "name": "python3",
      "display_name": "Python 3"
    },
    "language_info": {
      "name": "python"
    }
  },
  "cells": [
    {
      "cell_type": "code",
      "source": [
        "#Reg ID :- IIPRSS1304\n",
        "#Name:- S.Balaji\n",
        "#Q1 Try to create a program such that to find any string is a palindrome or not\n",
        "#\"NAMAN\"    \n",
        "#[Don't use the available method of Python or the slicing operator [::-1] ]\n",
        "st1=\"hello\"\n",
        "st2=\"\"\n",
        "for i in st1:\n",
        "  print(i)\n",
        "  st2=i+st2\n",
        "print(st2)\n",
        "if(st1==st2):\n",
        "  print(\"True\")\n",
        "else:\n",
        "  print(\"False\")\n",
        "\n",
        "\n",
        "\n"
      ],
      "metadata": {
        "colab": {
          "base_uri": "https://localhost:8080/"
        },
        "id": "PBeDmABtQ7OW",
        "outputId": "54f6d721-77ed-4801-ba2d-bc3320fde3d3"
      },
      "execution_count": null,
      "outputs": [
        {
          "output_type": "stream",
          "name": "stdout",
          "text": [
            "h\n",
            "e\n",
            "l\n",
            "l\n",
            "o\n",
            "olleh\n",
            "False\n"
          ]
        }
      ]
    }
  ]
}